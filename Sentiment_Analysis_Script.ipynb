{
 "cells": [
  {
   "cell_type": "markdown",
   "id": "e747e98b-a8ad-4492-a049-2c5d0181bd9b",
   "metadata": {},
   "source": [
    "# Sentiment Analysis using Roberta"
   ]
  },
  {
   "cell_type": "markdown",
   "id": "d10633e6-0382-4197-a9ad-717add15d0da",
   "metadata": {},
   "source": [
    "<span style=\"color:grey\">\n",
    "\n",
    "The main objective of this project is to use a pre-trained model named Roberta which is created by training through a large number of twitter responses from users and create a application using streamlit to analyze the sentiment and emotion of user based on the text they provide.\n",
    "\n",
    "For example:\n",
    "\n",
    "User-Input : 'I am so happy today'\n",
    "    \n",
    "result :   Positive\n",
    "\n",
    "</span>\n"
   ]
  },
  {
   "cell_type": "markdown",
   "id": "844e06c2-c9b9-45da-ac06-7651b36b9ba7",
   "metadata": {},
   "source": [
    "\n",
    "### Flow of this project:\n",
    "\n",
    "\n",
    "\n",
    "<div class='blue'>\n",
    "<span style=\"color:grey\">    \n",
    "\n",
    "i)   Setting up the environment by adding all the necessary modules (such as numpy, scipy, pandas) and importing the roberta module from hugging-face.\n",
    "    \n",
    "ii)  To import a csv file containing bunch of comments from a Amazon products reviews to view the accuracy of roberta. (by comparing roberta's score with      our intuition)\n",
    "    \n",
    "iii) Using roberta create a function which takes in a string from user and returns the emotion (either Positive, Negative, Neutral) along with an emoji        expressing those.\n",
    "    \n",
    "iv)  Making use of Streamlit to create a sort of application which basically does what the function do in (iii).\n",
    "</span>\n",
    "</div>\n"
   ]
  },
  {
   "cell_type": "markdown",
   "id": "3f4acd7a-9a80-4650-afaf-66481e94d918",
   "metadata": {},
   "source": [
    "#### Step-1: Setting up the environment"
   ]
  },
  {
   "cell_type": "code",
   "execution_count": null,
   "id": "bf2feaed-2d35-4da8-86b6-7e4dff72e08d",
   "metadata": {},
   "outputs": [],
   "source": [
    "#pip install transformers"
   ]
  },
  {
   "cell_type": "code",
   "execution_count": 82,
   "id": "6b4be0ca-2ae1-4266-849f-a109d19d4413",
   "metadata": {
    "tags": []
   },
   "outputs": [],
   "source": [
    "import numpy as np\n",
    "import pandas as pd\n",
    "from transformers import AutoModelForSequenceClassification\n",
    "from transformers import AutoTokenizer\n",
    "from scipy.special import softmax\n",
    "import streamlit as st"
   ]
  },
  {
   "cell_type": "code",
   "execution_count": 2,
   "id": "18eea4ed-29d7-4d05-9c0b-8fe4a89eb5fb",
   "metadata": {
    "tags": []
   },
   "outputs": [
    {
     "data": {
      "application/vnd.jupyter.widget-view+json": {
       "model_id": "372f60c1fbd84fb2bb5c3f53ab828ff1",
       "version_major": 2,
       "version_minor": 0
      },
      "text/plain": [
       "Downloading pytorch_model.bin:   0%|          | 0.00/499M [00:00<?, ?B/s]"
      ]
     },
     "metadata": {},
     "output_type": "display_data"
    },
    {
     "name": "stderr",
     "output_type": "stream",
     "text": [
      "C:\\Users\\khare\\Anaconda3\\lib\\site-packages\\huggingface_hub\\file_download.py:137: UserWarning: `huggingface_hub` cache-system uses symlinks by default to efficiently store duplicated files but your machine does not support them in C:\\Users\\khare\\.cache\\huggingface\\hub. Caching files will still work but in a degraded version that might require more space on your disk. This warning can be disabled by setting the `HF_HUB_DISABLE_SYMLINKS_WARNING` environment variable. For more details, see https://huggingface.co/docs/huggingface_hub/how-to-cache#limitations.\n",
      "To support symlinks on Windows, you either need to activate Developer Mode or to run Python as an administrator. In order to see activate developer mode, see this article: https://docs.microsoft.com/en-us/windows/apps/get-started/enable-your-device-for-development\n",
      "  warnings.warn(message)\n"
     ]
    }
   ],
   "source": [
    "MODEL = \"cardiffnlp/twitter-roberta-base-sentiment\"\n",
    "tokenizer = AutoTokenizer.from_pretrained(MODEL)\n",
    "model = AutoModelForSequenceClassification.from_pretrained(MODEL)"
   ]
  },
  {
   "cell_type": "code",
   "execution_count": 3,
   "id": "785547fa-c6da-436a-ad0d-1ebba5a37941",
   "metadata": {
    "tags": []
   },
   "outputs": [
    {
     "data": {
      "text/plain": [
       "{'input_ids': tensor([[    0, 31414,     6,   313,     2]]), 'attention_mask': tensor([[1, 1, 1, 1, 1]])}"
      ]
     },
     "execution_count": 3,
     "metadata": {},
     "output_type": "execute_result"
    }
   ],
   "source": [
    "# Checking whether the model is well loaded or not\n",
    "\n",
    "text= 'Hello, man'\n",
    "tokenizer(text, return_tensors='pt') "
   ]
  },
  {
   "cell_type": "markdown",
   "id": "c32278a2-c466-46b1-8b17-3a79e41128bf",
   "metadata": {},
   "source": [
    "#### Step-2: Importing a csv with user reviews and viewing the response from Roberta model"
   ]
  },
  {
   "cell_type": "code",
   "execution_count": 5,
   "id": "f68f34c8-0cf5-4075-b634-073cc8d77ca9",
   "metadata": {
    "tags": []
   },
   "outputs": [],
   "source": [
    "data = pd.read_csv('Reviews.csv')"
   ]
  },
  {
   "cell_type": "code",
   "execution_count": 6,
   "id": "35201cf3-0874-479a-a959-b368d20e519b",
   "metadata": {
    "tags": []
   },
   "outputs": [
    {
     "data": {
      "text/html": [
       "<div>\n",
       "<style scoped>\n",
       "    .dataframe tbody tr th:only-of-type {\n",
       "        vertical-align: middle;\n",
       "    }\n",
       "\n",
       "    .dataframe tbody tr th {\n",
       "        vertical-align: top;\n",
       "    }\n",
       "\n",
       "    .dataframe thead th {\n",
       "        text-align: right;\n",
       "    }\n",
       "</style>\n",
       "<table border=\"1\" class=\"dataframe\">\n",
       "  <thead>\n",
       "    <tr style=\"text-align: right;\">\n",
       "      <th></th>\n",
       "      <th>Id</th>\n",
       "      <th>ProductId</th>\n",
       "      <th>UserId</th>\n",
       "      <th>ProfileName</th>\n",
       "      <th>HelpfulnessNumerator</th>\n",
       "      <th>HelpfulnessDenominator</th>\n",
       "      <th>Score</th>\n",
       "      <th>Time</th>\n",
       "      <th>Summary</th>\n",
       "      <th>Text</th>\n",
       "    </tr>\n",
       "  </thead>\n",
       "  <tbody>\n",
       "    <tr>\n",
       "      <th>0</th>\n",
       "      <td>1</td>\n",
       "      <td>B001E4KFG0</td>\n",
       "      <td>A3SGXH7AUHU8GW</td>\n",
       "      <td>delmartian</td>\n",
       "      <td>1</td>\n",
       "      <td>1</td>\n",
       "      <td>5</td>\n",
       "      <td>1303862400</td>\n",
       "      <td>Good Quality Dog Food</td>\n",
       "      <td>I have bought several of the Vitality canned d...</td>\n",
       "    </tr>\n",
       "    <tr>\n",
       "      <th>1</th>\n",
       "      <td>2</td>\n",
       "      <td>B00813GRG4</td>\n",
       "      <td>A1D87F6ZCVE5NK</td>\n",
       "      <td>dll pa</td>\n",
       "      <td>0</td>\n",
       "      <td>0</td>\n",
       "      <td>1</td>\n",
       "      <td>1346976000</td>\n",
       "      <td>Not as Advertised</td>\n",
       "      <td>Product arrived labeled as Jumbo Salted Peanut...</td>\n",
       "    </tr>\n",
       "    <tr>\n",
       "      <th>2</th>\n",
       "      <td>3</td>\n",
       "      <td>B000LQOCH0</td>\n",
       "      <td>ABXLMWJIXXAIN</td>\n",
       "      <td>Natalia Corres \"Natalia Corres\"</td>\n",
       "      <td>1</td>\n",
       "      <td>1</td>\n",
       "      <td>4</td>\n",
       "      <td>1219017600</td>\n",
       "      <td>\"Delight\" says it all</td>\n",
       "      <td>This is a confection that has been around a fe...</td>\n",
       "    </tr>\n",
       "    <tr>\n",
       "      <th>3</th>\n",
       "      <td>4</td>\n",
       "      <td>B000UA0QIQ</td>\n",
       "      <td>A395BORC6FGVXV</td>\n",
       "      <td>Karl</td>\n",
       "      <td>3</td>\n",
       "      <td>3</td>\n",
       "      <td>2</td>\n",
       "      <td>1307923200</td>\n",
       "      <td>Cough Medicine</td>\n",
       "      <td>If you are looking for the secret ingredient i...</td>\n",
       "    </tr>\n",
       "    <tr>\n",
       "      <th>4</th>\n",
       "      <td>5</td>\n",
       "      <td>B006K2ZZ7K</td>\n",
       "      <td>A1UQRSCLF8GW1T</td>\n",
       "      <td>Michael D. Bigham \"M. Wassir\"</td>\n",
       "      <td>0</td>\n",
       "      <td>0</td>\n",
       "      <td>5</td>\n",
       "      <td>1350777600</td>\n",
       "      <td>Great taffy</td>\n",
       "      <td>Great taffy at a great price.  There was a wid...</td>\n",
       "    </tr>\n",
       "    <tr>\n",
       "      <th>5</th>\n",
       "      <td>6</td>\n",
       "      <td>B006K2ZZ7K</td>\n",
       "      <td>ADT0SRK1MGOEU</td>\n",
       "      <td>Twoapennything</td>\n",
       "      <td>0</td>\n",
       "      <td>0</td>\n",
       "      <td>4</td>\n",
       "      <td>1342051200</td>\n",
       "      <td>Nice Taffy</td>\n",
       "      <td>I got a wild hair for taffy and ordered this f...</td>\n",
       "    </tr>\n",
       "    <tr>\n",
       "      <th>6</th>\n",
       "      <td>7</td>\n",
       "      <td>B006K2ZZ7K</td>\n",
       "      <td>A1SP2KVKFXXRU1</td>\n",
       "      <td>David C. Sullivan</td>\n",
       "      <td>0</td>\n",
       "      <td>0</td>\n",
       "      <td>5</td>\n",
       "      <td>1340150400</td>\n",
       "      <td>Great!  Just as good as the expensive brands!</td>\n",
       "      <td>This saltwater taffy had great flavors and was...</td>\n",
       "    </tr>\n",
       "    <tr>\n",
       "      <th>7</th>\n",
       "      <td>8</td>\n",
       "      <td>B006K2ZZ7K</td>\n",
       "      <td>A3JRGQVEQN31IQ</td>\n",
       "      <td>Pamela G. Williams</td>\n",
       "      <td>0</td>\n",
       "      <td>0</td>\n",
       "      <td>5</td>\n",
       "      <td>1336003200</td>\n",
       "      <td>Wonderful, tasty taffy</td>\n",
       "      <td>This taffy is so good.  It is very soft and ch...</td>\n",
       "    </tr>\n",
       "    <tr>\n",
       "      <th>8</th>\n",
       "      <td>9</td>\n",
       "      <td>B000E7L2R4</td>\n",
       "      <td>A1MZYO9TZK0BBI</td>\n",
       "      <td>R. James</td>\n",
       "      <td>1</td>\n",
       "      <td>1</td>\n",
       "      <td>5</td>\n",
       "      <td>1322006400</td>\n",
       "      <td>Yay Barley</td>\n",
       "      <td>Right now I'm mostly just sprouting this so my...</td>\n",
       "    </tr>\n",
       "    <tr>\n",
       "      <th>9</th>\n",
       "      <td>10</td>\n",
       "      <td>B00171APVA</td>\n",
       "      <td>A21BT40VZCCYT4</td>\n",
       "      <td>Carol A. Reed</td>\n",
       "      <td>0</td>\n",
       "      <td>0</td>\n",
       "      <td>5</td>\n",
       "      <td>1351209600</td>\n",
       "      <td>Healthy Dog Food</td>\n",
       "      <td>This is a very healthy dog food. Good for thei...</td>\n",
       "    </tr>\n",
       "  </tbody>\n",
       "</table>\n",
       "</div>"
      ],
      "text/plain": [
       "   Id   ProductId          UserId                      ProfileName  \\\n",
       "0   1  B001E4KFG0  A3SGXH7AUHU8GW                       delmartian   \n",
       "1   2  B00813GRG4  A1D87F6ZCVE5NK                           dll pa   \n",
       "2   3  B000LQOCH0   ABXLMWJIXXAIN  Natalia Corres \"Natalia Corres\"   \n",
       "3   4  B000UA0QIQ  A395BORC6FGVXV                             Karl   \n",
       "4   5  B006K2ZZ7K  A1UQRSCLF8GW1T    Michael D. Bigham \"M. Wassir\"   \n",
       "5   6  B006K2ZZ7K   ADT0SRK1MGOEU                   Twoapennything   \n",
       "6   7  B006K2ZZ7K  A1SP2KVKFXXRU1                David C. Sullivan   \n",
       "7   8  B006K2ZZ7K  A3JRGQVEQN31IQ               Pamela G. Williams   \n",
       "8   9  B000E7L2R4  A1MZYO9TZK0BBI                         R. James   \n",
       "9  10  B00171APVA  A21BT40VZCCYT4                    Carol A. Reed   \n",
       "\n",
       "   HelpfulnessNumerator  HelpfulnessDenominator  Score        Time  \\\n",
       "0                     1                       1      5  1303862400   \n",
       "1                     0                       0      1  1346976000   \n",
       "2                     1                       1      4  1219017600   \n",
       "3                     3                       3      2  1307923200   \n",
       "4                     0                       0      5  1350777600   \n",
       "5                     0                       0      4  1342051200   \n",
       "6                     0                       0      5  1340150400   \n",
       "7                     0                       0      5  1336003200   \n",
       "8                     1                       1      5  1322006400   \n",
       "9                     0                       0      5  1351209600   \n",
       "\n",
       "                                         Summary  \\\n",
       "0                          Good Quality Dog Food   \n",
       "1                              Not as Advertised   \n",
       "2                          \"Delight\" says it all   \n",
       "3                                 Cough Medicine   \n",
       "4                                    Great taffy   \n",
       "5                                     Nice Taffy   \n",
       "6  Great!  Just as good as the expensive brands!   \n",
       "7                         Wonderful, tasty taffy   \n",
       "8                                     Yay Barley   \n",
       "9                               Healthy Dog Food   \n",
       "\n",
       "                                                Text  \n",
       "0  I have bought several of the Vitality canned d...  \n",
       "1  Product arrived labeled as Jumbo Salted Peanut...  \n",
       "2  This is a confection that has been around a fe...  \n",
       "3  If you are looking for the secret ingredient i...  \n",
       "4  Great taffy at a great price.  There was a wid...  \n",
       "5  I got a wild hair for taffy and ordered this f...  \n",
       "6  This saltwater taffy had great flavors and was...  \n",
       "7  This taffy is so good.  It is very soft and ch...  \n",
       "8  Right now I'm mostly just sprouting this so my...  \n",
       "9  This is a very healthy dog food. Good for thei...  "
      ]
     },
     "execution_count": 6,
     "metadata": {},
     "output_type": "execute_result"
    }
   ],
   "source": [
    "data.head(10)"
   ]
  },
  {
   "cell_type": "code",
   "execution_count": 18,
   "id": "5b31d5cc-f31c-47ab-b54a-7f7bf7415f2f",
   "metadata": {
    "tags": []
   },
   "outputs": [
    {
     "data": {
      "text/plain": [
       "(568454, 10)"
      ]
     },
     "execution_count": 18,
     "metadata": {},
     "output_type": "execute_result"
    }
   ],
   "source": [
    "data.shape  "
   ]
  },
  {
   "cell_type": "code",
   "execution_count": 20,
   "id": "e2186b51-47c8-4642-99be-61afccef8abc",
   "metadata": {
    "tags": []
   },
   "outputs": [
    {
     "data": {
      "text/plain": [
       "(1000, 10)"
      ]
     },
     "execution_count": 20,
     "metadata": {},
     "output_type": "execute_result"
    }
   ],
   "source": [
    "data = data.head(1000)  # Original data is too large so selecting only the first 1000 to work on\n",
    "data.shape"
   ]
  },
  {
   "cell_type": "code",
   "execution_count": 9,
   "id": "0aed54a5-d0c0-4b2e-9a10-08b44ad5fced",
   "metadata": {
    "tags": []
   },
   "outputs": [
    {
     "data": {
      "text/plain": [
       "'I have bought several of the Vitality canned dog food products and have found them all to be of good quality. The product looks more like a stew than a processed meat and it smells better. My Labrador is finicky and she appreciates this product better than  most.'"
      ]
     },
     "execution_count": 9,
     "metadata": {},
     "output_type": "execute_result"
    }
   ],
   "source": [
    "example_sentence = data['Text'][0]\n",
    "example_sentence"
   ]
  },
  {
   "cell_type": "raw",
   "id": "99bf561f-b9bc-4260-a199-f53255fefac1",
   "metadata": {},
   "source": [
    "Based on the review of user we can see that they are impressed by the Vitality canned dog products which is indicated by the positive responses towards the product as seen by the use of words such as 'good quality', 'appreciates the product', 'smells better' etc."
   ]
  },
  {
   "cell_type": "code",
   "execution_count": 16,
   "id": "076750d8-e128-48e3-afe5-0bc77f5d8a2f",
   "metadata": {
    "tags": []
   },
   "outputs": [
    {
     "name": "stdout",
     "output_type": "stream",
     "text": [
      "negative:  0.009624252\n",
      "neutral:   0.049980428\n",
      "positive:  0.9403953\n"
     ]
    }
   ],
   "source": [
    "# Checking the sentiment using roberta model\n",
    "\n",
    "encoded_input = tokenizer(example_sentence, return_tensors='pt')\n",
    "output = model(**encoded_input)\n",
    "scores = output[0][0].detach().numpy()\n",
    "scores = softmax(scores)\n",
    "\n",
    "for i in range(0,1):\n",
    "    print('negative: ',scores[i])\n",
    "    print('neutral:  ',scores[i+1])\n",
    "    print('positive: ',scores[i+2])\n",
    "    "
   ]
  },
  {
   "cell_type": "raw",
   "id": "6ab78821-7bd7-4144-8d87-f279d5199ff1",
   "metadata": {},
   "source": [
    "This can be observed by selecting any random texts from the csv and comparing it with roberta scores, let's try one more:"
   ]
  },
  {
   "cell_type": "code",
   "execution_count": 29,
   "id": "65b73ab1-72b4-409d-80a1-f4011ba2d3c1",
   "metadata": {
    "tags": []
   },
   "outputs": [
    {
     "name": "stdout",
     "output_type": "stream",
     "text": [
      "This oatmeal is not good. Its mushy, soft, I don't like it. Quaker Oats is the way to go. \n",
      "\n",
      "negative:  0.97635514\n",
      "neutral:   0.020687476\n",
      "positive:  0.0029573706\n"
     ]
    }
   ],
   "source": [
    "encoded_input = tokenizer(data['Text'][50], return_tensors='pt')\n",
    "output = model(**encoded_input)\n",
    "scores = output[0][0].detach().numpy()\n",
    "scores = softmax(scores)\n",
    "\n",
    "print(data['Text'][50],'\\n')\n",
    "\n",
    "for i in range(0,1):\n",
    "    print('negative: ',scores[i])\n",
    "    print('neutral:  ',scores[i+1])\n",
    "    print('positive: ',scores[i+2])"
   ]
  },
  {
   "cell_type": "markdown",
   "id": "21076a9c-4c7e-47c2-892f-3f156f8fd8cd",
   "metadata": {
    "tags": []
   },
   "source": [
    "#### Step-4: Creating a function which takes in a string from user and returns the emotion (either Positive, Negative, Neutral) along with an emoji   expressing those.\n"
   ]
  },
  {
   "cell_type": "code",
   "execution_count": 72,
   "id": "38af029f-d8ed-4910-b806-9a7744f31cbd",
   "metadata": {
    "tags": []
   },
   "outputs": [],
   "source": [
    "U1F60A = '\\U0001F60A'  # Assign the Unicode value for the emoji happy\n",
    "U1F612 = '\\U0001F612'  # Unamused face\n",
    "U1F610 = '\\U0001F610'  # Neutral face\n"
   ]
  },
  {
   "cell_type": "code",
   "execution_count": 73,
   "id": "944b8494-10f7-437c-8794-acb971865443",
   "metadata": {
    "tags": []
   },
   "outputs": [],
   "source": [
    "def sentiment_finder(text):\n",
    "    encoded_input = tokenizer(text, return_tensors='pt')\n",
    "    output = model(**encoded_input)\n",
    "    scores = output[0][0].detach().numpy()\n",
    "    scores = softmax(scores)\n",
    "    \n",
    "    index = np.where(scores==scores.max())[0][0]   # return the index of maximum value among three scores determining the sentiments\n",
    "    if (index==0): \n",
    "        return 'Negative', U1F612\n",
    "    elif (index==1):\n",
    "        return 'Neutral', U1F610\n",
    "    else:\n",
    "        return 'Positive',U1F60A\n",
    "    "
   ]
  },
  {
   "cell_type": "code",
   "execution_count": 77,
   "id": "65907baa-1712-4dae-9676-b09a6fe38e0e",
   "metadata": {
    "tags": []
   },
   "outputs": [
    {
     "name": "stdout",
     "output_type": "stream",
     "text": [
      "Review from user:  Great taffy at a great price.  There was a wide assortment of yummy taffy.  Delivery was very quick.  If your a taffy lover, this is a deal. \n",
      "\n",
      "The sentiment predicted from roberta model is:  ('Positive', '😊')\n"
     ]
    }
   ],
   "source": [
    "print('Review from user: ',data['Text'][4], '\\n')\n",
    "\n",
    "print('The sentiment predicted from roberta model is: ',sentiment_finder(data['Text'][4]))"
   ]
  },
  {
   "cell_type": "markdown",
   "id": "a488a177-09f3-496f-b2b0-59a3b8e64d0f",
   "metadata": {},
   "source": [
    "#### Step-5: Making a streamlit app which returns asks user to enter a text and returns their sentiment (making use of Roberta model)"
   ]
  },
  {
   "cell_type": "code",
   "execution_count": 83,
   "id": "bd6774bf-ee5d-4579-9ba1-050bf367f173",
   "metadata": {
    "tags": []
   },
   "outputs": [],
   "source": [
    "from streamlit_jupyter import StreamlitPatcher, tqdm\n",
    "StreamlitPatcher().jupyter() "
   ]
  },
  {
   "cell_type": "code",
   "execution_count": 85,
   "id": "fe5f3385-5317-4806-abbf-dbd260ea20e0",
   "metadata": {
    "tags": []
   },
   "outputs": [
    {
     "data": {
      "text/markdown": [
       "# Sentiment Analysis"
      ],
      "text/plain": [
       "<IPython.core.display.Markdown object>"
      ]
     },
     "metadata": {},
     "output_type": "display_data"
    },
    {
     "data": {
      "text/markdown": [
       "\n",
       "       <div style = \"background-color:tomato; padding:10px\">\n",
       "       <h2 style= \"color:white; text-align:center;\"> Real Time Sentiment Analysis </h2> \n",
       "       </div>\n"
      ],
      "text/plain": [
       "<IPython.core.display.Markdown object>"
      ]
     },
     "metadata": {},
     "output_type": "display_data"
    },
    {
     "data": {
      "application/vnd.jupyter.widget-view+json": {
       "model_id": "fa48706cd63b41778b746c74c5faff7b",
       "version_major": 2,
       "version_minor": 0
      },
      "text/plain": [
       "Textarea(value='', description='Text', placeholder='Type something')"
      ]
     },
     "metadata": {},
     "output_type": "display_data"
    },
    {
     "name": "stderr",
     "output_type": "stream",
     "text": [
      "2023-09-30 20:43:50.565 \n",
      "  \u001b[33m\u001b[1mWarning:\u001b[0m to view this Streamlit app on a browser, run it with the following\n",
      "  command:\n",
      "\n",
      "    streamlit run C:\\Users\\khare\\Anaconda3\\lib\\site-packages\\ipykernel_launcher.py [ARGUMENTS]\n"
     ]
    }
   ],
   "source": [
    "st.title(\"Sentiment Analysis\")\n",
    "temp = \"\"\"\n",
    "       <div style = \"background-color:tomato; padding:10px\">\n",
    "       <h2 style= \"color:white; text-align:center;\"> Real Time Sentiment Analysis </h2> \n",
    "       </div>\n",
    "\"\"\"\n",
    "       \n",
    "st.markdown(temp, unsafe_allow_html=True)\n",
    "text = st.text_input(\"Text\",\"\")\n",
    "if st.button(\"Predict\"):\n",
    "    result = sentiment_finder(text)\n",
    "    st.success(result)"
   ]
  },
  {
   "cell_type": "raw",
   "id": "65dc9d4d-7d56-4c06-92aa-aa8407cdebd2",
   "metadata": {},
   "source": [
    "Since, some widgets are not supported in Jupyter Notebook. Another .py file (Sentiment_app.py) is created to run streamlit in browser."
   ]
  }
 ],
 "metadata": {
  "kernelspec": {
   "display_name": "Python 3 (ipykernel)",
   "language": "python",
   "name": "python3"
  },
  "language_info": {
   "codemirror_mode": {
    "name": "ipython",
    "version": 3
   },
   "file_extension": ".py",
   "mimetype": "text/x-python",
   "name": "python",
   "nbconvert_exporter": "python",
   "pygments_lexer": "ipython3",
   "version": "3.9.16"
  }
 },
 "nbformat": 4,
 "nbformat_minor": 5
}
